{
  "nbformat": 4,
  "nbformat_minor": 0,
  "metadata": {
    "colab": {
      "name": "nltk.ipynb",
      "provenance": [],
      "collapsed_sections": [],
      "authorship_tag": "ABX9TyNPximE+pHdeiL1xVGr3NMF",
      "include_colab_link": true
    },
    "kernelspec": {
      "name": "python3",
      "display_name": "Python 3"
    }
  },
  "cells": [
    {
      "cell_type": "markdown",
      "metadata": {
        "id": "view-in-github",
        "colab_type": "text"
      },
      "source": [
        "<a href=\"https://colab.research.google.com/github/Parthasarathi009/2015/blob/master/nltk.ipynb\" target=\"_parent\"><img src=\"https://colab.research.google.com/assets/colab-badge.svg\" alt=\"Open In Colab\"/></a>"
      ]
    },
    {
      "cell_type": "code",
      "metadata": {
        "id": "NY1eagU-J5SU",
        "colab_type": "code",
        "colab": {}
      },
      "source": [
        "import nltk\n",
        "from nltk import corpus\n",
        "from nltk.corpus import gutenberg\n",
        "from nltk.tokenize import word_tokenize, sent_tokenize\n",
        "from nltk.probability import FreqDist\n",
        "import pandas as pd\n",
        "from nltk.text import Text "
      ],
      "execution_count": 0,
      "outputs": []
    },
    {
      "cell_type": "code",
      "metadata": {
        "id": "AZ41Z3MjKMB2",
        "colab_type": "code",
        "colab": {
          "base_uri": "https://localhost:8080/",
          "height": 68
        },
        "outputId": "f85fe139-4ba5-41f9-e8e7-6896c748c735"
      },
      "source": [
        "nltk.download('gutenberg')"
      ],
      "execution_count": 2,
      "outputs": [
        {
          "output_type": "stream",
          "text": [
            "[nltk_data] Downloading package gutenberg to /root/nltk_data...\n",
            "[nltk_data]   Unzipping corpora/gutenberg.zip.\n"
          ],
          "name": "stdout"
        },
        {
          "output_type": "execute_result",
          "data": {
            "text/plain": [
              "True"
            ]
          },
          "metadata": {
            "tags": []
          },
          "execution_count": 2
        }
      ]
    },
    {
      "cell_type": "code",
      "metadata": {
        "id": "CIE3_d4DKSwZ",
        "colab_type": "code",
        "colab": {
          "base_uri": "https://localhost:8080/",
          "height": 323
        },
        "outputId": "db1e98db-604e-4ba9-a8ac-72308672898d"
      },
      "source": [
        "gutenberg.fileids()"
      ],
      "execution_count": 3,
      "outputs": [
        {
          "output_type": "execute_result",
          "data": {
            "text/plain": [
              "['austen-emma.txt',\n",
              " 'austen-persuasion.txt',\n",
              " 'austen-sense.txt',\n",
              " 'bible-kjv.txt',\n",
              " 'blake-poems.txt',\n",
              " 'bryant-stories.txt',\n",
              " 'burgess-busterbrown.txt',\n",
              " 'carroll-alice.txt',\n",
              " 'chesterton-ball.txt',\n",
              " 'chesterton-brown.txt',\n",
              " 'chesterton-thursday.txt',\n",
              " 'edgeworth-parents.txt',\n",
              " 'melville-moby_dick.txt',\n",
              " 'milton-paradise.txt',\n",
              " 'shakespeare-caesar.txt',\n",
              " 'shakespeare-hamlet.txt',\n",
              " 'shakespeare-macbeth.txt',\n",
              " 'whitman-leaves.txt']"
            ]
          },
          "metadata": {
            "tags": []
          },
          "execution_count": 3
        }
      ]
    },
    {
      "cell_type": "code",
      "metadata": {
        "id": "5jOpUj2VKWsn",
        "colab_type": "code",
        "colab": {
          "base_uri": "https://localhost:8080/",
          "height": 51
        },
        "outputId": "d5be76c7-c0b9-4a6c-fca1-c279884c28bf"
      },
      "source": [
        "text_all = []\n",
        "for i in range(len(gutenberg.fileids())):\n",
        "     text_all.append(gutenberg.raw(gutenberg.fileids()))\n",
        "print(type(text_all))\n",
        "#Convert list to string\n",
        "text_str = ' '.join(map(str, text_all))\n",
        "print(type(text_str))"
      ],
      "execution_count": 6,
      "outputs": [
        {
          "output_type": "stream",
          "text": [
            "<class 'list'>\n",
            "<class 'str'>\n"
          ],
          "name": "stdout"
        }
      ]
    },
    {
      "cell_type": "code",
      "metadata": {
        "id": "BZXG__0DK_vi",
        "colab_type": "code",
        "colab": {
          "base_uri": "https://localhost:8080/",
          "height": 68
        },
        "outputId": "835c1ca7-b78a-4703-807b-57276e97bc5f"
      },
      "source": [
        "nltk.download('punkt')\n",
        "words = word_tokenize(text_str)\n",
        "len(words)"
      ],
      "execution_count": 9,
      "outputs": [
        {
          "output_type": "stream",
          "text": [
            "[nltk_data] Downloading package punkt to /root/nltk_data...\n",
            "[nltk_data]   Unzipping tokenizers/punkt.zip.\n"
          ],
          "name": "stdout"
        },
        {
          "output_type": "execute_result",
          "data": {
            "text/plain": [
              "45687870"
            ]
          },
          "metadata": {
            "tags": []
          },
          "execution_count": 9
        }
      ]
    },
    {
      "cell_type": "code",
      "metadata": {
        "id": "7iXM4c1TLZgM",
        "colab_type": "code",
        "colab": {
          "base_uri": "https://localhost:8080/",
          "height": 51
        },
        "outputId": "d830f6c4-3fea-4cf6-8bb7-b62bf2f569ca"
      },
      "source": [
        "modals = ['can', 'could', 'may', 'might', 'must', 'will', 'would', 'should']\n",
        "modals_all = []\n",
        "for i in words:\n",
        "    if i in modals:\n",
        "        modals_all.append(i)\n",
        "print(len(modals_all))\n",
        "print(modals_all[:10])"
      ],
      "execution_count": 10,
      "outputs": [
        {
          "output_type": "stream",
          "text": [
            "476550\n",
            "['would', 'could', 'could', 'must', 'could', 'could', 'must', 'could', 'could', 'could']\n"
          ],
          "name": "stdout"
        }
      ]
    },
    {
      "cell_type": "code",
      "metadata": {
        "id": "5gvqFAA2NcrZ",
        "colab_type": "code",
        "colab": {
          "base_uri": "https://localhost:8080/",
          "height": 204
        },
        "outputId": "e39dd0b3-c04d-4544-faea-5a76a8d61065"
      },
      "source": [
        "freq = FreqDist(modals_all)\n",
        "print(type(freq)) #Currently this is a dictionary. Convert into dataframe\n",
        "modal_freq = pd.DataFrame.from_dict(data = freq, columns = ['Frequency'], orient ='index').sort_values(by = 'Frequency')\n",
        "modal_freq.index.name = 'Modals'\n",
        "print(modal_freq )"
      ],
      "execution_count": 13,
      "outputs": [
        {
          "output_type": "stream",
          "text": [
            "<class 'nltk.probability.FreqDist'>\n",
            "        Frequency\n",
            "Modals           \n",
            "might       34830\n",
            "must        41022\n",
            "may         43650\n",
            "should      45108\n",
            "can         48006\n",
            "could       64890\n",
            "would       71496\n",
            "will       127548\n"
          ],
          "name": "stdout"
        }
      ]
    },
    {
      "cell_type": "code",
      "metadata": {
        "id": "1MOp3aCSNwf_",
        "colab_type": "code",
        "colab": {
          "base_uri": "https://localhost:8080/",
          "height": 187
        },
        "outputId": "b20ae189-5eb0-448b-a81f-eab2ed300bd1"
      },
      "source": [
        "modal_freq['Relative Frequency'] = modal_freq.Frequency/sum(modal_freq.Frequency)\n",
        "print(modal_freq)"
      ],
      "execution_count": 14,
      "outputs": [
        {
          "output_type": "stream",
          "text": [
            "        Frequency  Relative Frequency\n",
            "Modals                               \n",
            "might       34830            0.073088\n",
            "must        41022            0.086081\n",
            "may         43650            0.091596\n",
            "should      45108            0.094655\n",
            "can         48006            0.100737\n",
            "could       64890            0.136166\n",
            "would       71496            0.150028\n",
            "will       127548            0.267649\n"
          ],
          "name": "stdout"
        }
      ]
    },
    {
      "cell_type": "markdown",
      "metadata": {
        "id": "4DFjXPXyN_zt",
        "colab_type": "text"
      },
      "source": [
        "In the above table we see that the relative frequency of `might` is the lowest while that of `will` is highest.\n",
        "- Now let us check which texts use these two modals the most and the least."
      ]
    },
    {
      "cell_type": "code",
      "metadata": {
        "id": "TxYid2xvPY6v",
        "colab_type": "code",
        "colab": {
          "base_uri": "https://localhost:8080/",
          "height": 595
        },
        "outputId": "7cb9b964-138c-420a-8428-dcd544b66f0c"
      },
      "source": [
        "df= pd.DataFrame()\n",
        "df['Text']=gutenberg.fileids()\n",
        "df['will']=0 ; df['might']=0\n",
        "#print(df)\n",
        "for i, t in enumerate(gutenberg.fileids()):\n",
        "    will = dict(FreqDist(word.lower() for word in word_tokenize(gutenberg.raw(t)) if word=='will'))\n",
        "    might = dict(FreqDist(word.lower() for word in word_tokenize(gutenberg.raw(t)) if word=='might'))\n",
        "    df['Text'][i]= t\n",
        "    df['will'][i] = (will.values())\n",
        "    df['might'][i] = (might.values())\n",
        "print(df)"
      ],
      "execution_count": 25,
      "outputs": [
        {
          "output_type": "stream",
          "text": [
            "/usr/local/lib/python3.6/dist-packages/ipykernel_launcher.py:8: SettingWithCopyWarning: \n",
            "A value is trying to be set on a copy of a slice from a DataFrame\n",
            "\n",
            "See the caveats in the documentation: http://pandas.pydata.org/pandas-docs/stable/user_guide/indexing.html#returning-a-view-versus-a-copy\n",
            "  \n",
            "/usr/local/lib/python3.6/dist-packages/ipykernel_launcher.py:9: SettingWithCopyWarning: \n",
            "A value is trying to be set on a copy of a slice from a DataFrame\n",
            "\n",
            "See the caveats in the documentation: http://pandas.pydata.org/pandas-docs/stable/user_guide/indexing.html#returning-a-view-versus-a-copy\n",
            "  if __name__ == '__main__':\n",
            "/usr/local/lib/python3.6/dist-packages/ipykernel_launcher.py:10: SettingWithCopyWarning: \n",
            "A value is trying to be set on a copy of a slice from a DataFrame\n",
            "\n",
            "See the caveats in the documentation: http://pandas.pydata.org/pandas-docs/stable/user_guide/indexing.html#returning-a-view-versus-a-copy\n",
            "  # Remove the CWD from sys.path while we load stuff.\n"
          ],
          "name": "stderr"
        },
        {
          "output_type": "stream",
          "text": [
            "                       Text    will  might\n",
            "0           austen-emma.txt   (545)  (321)\n",
            "1     austen-persuasion.txt   (153)  (166)\n",
            "2          austen-sense.txt   (347)  (215)\n",
            "3             bible-kjv.txt  (3807)  (475)\n",
            "4           blake-poems.txt     (3)    (2)\n",
            "5        bryant-stories.txt   (144)   (23)\n",
            "6   burgess-busterbrown.txt    (19)   (17)\n",
            "7         carroll-alice.txt    (24)   (28)\n",
            "8       chesterton-ball.txt   (198)   (69)\n",
            "9      chesterton-brown.txt   (111)   (71)\n",
            "10  chesterton-thursday.txt   (109)   (71)\n",
            "11    edgeworth-parents.txt   (509)  (127)\n",
            "12   melville-moby_dick.txt   (377)  (183)\n",
            "13      milton-paradise.txt   (160)   (98)\n",
            "14   shakespeare-caesar.txt   (129)   (12)\n",
            "15   shakespeare-hamlet.txt   (131)   (28)\n",
            "16  shakespeare-macbeth.txt    (62)    (4)\n",
            "17       whitman-leaves.txt   (258)   (25)\n"
          ],
          "name": "stdout"
        }
      ]
    },
    {
      "cell_type": "markdown",
      "metadata": {
        "id": "kJQaVOheQrYD",
        "colab_type": "text"
      },
      "source": [
        "Will\n",
        "- Highest count: 'bible-kjv.txt'\n",
        "- Lowest count : 'black-poems.txt'\n",
        "\n",
        "Might\n",
        "- Highest count: 'bible-kjv.txt'\n",
        "- Lowest count : 'black-poems.txt'"
      ]
    },
    {
      "cell_type": "code",
      "metadata": {
        "id": "mOJseWTIOGPq",
        "colab_type": "code",
        "colab": {
          "base_uri": "https://localhost:8080/",
          "height": 629
        },
        "outputId": "fbff28a2-3a1a-4978-e863-1e78d3157511"
      },
      "source": [
        "#Extracting sentences where 'will' and 'might' occur the most and the least\n",
        "word_max = Text(gutenberg.words('bible-kjv.txt'))\n",
        "word_min = Text(gutenberg.words('blake-poems.txt'))\n",
        "print(\"Sentences from the text where 'will' occurs the maximum times  is shown below\")\n",
        "print(\"    \")\n",
        "print(word_max.concordance('will'))\n",
        "print(\"    \")\n",
        "print(\"Sentences from the text where 'will' occurs the minimum times is shown below\")\n",
        "print(\"    \")\n",
        "word_min.concordance('will')"
      ],
      "execution_count": 30,
      "outputs": [
        {
          "output_type": "stream",
          "text": [
            "Sentences from the text where 'will' occurs the maximum times  is shown below\n",
            "    \n",
            "Displaying 25 of 3836 matches:\n",
            "ood that the man should be alone ; I will make him an help meet for him . 2 : \n",
            " the days of thy life : 3 : 15 And I will put enmity between thee and the woma\n",
            " . 3 : 16 Unto the woman he said , I will greatly multiply thy sorrow and thy \n",
            " heart . 6 : 7 And the LORD said , I will destroy man whom I have created from\n",
            "ence through them ; and , behold , I will destroy them with the earth . 6 : 14\n",
            "rth shall die . 6 : 18 But with thee will I establish my covenant ; and thou s\n",
            "h . 7 : 4 For yet seven days , and I will cause it to rain upon the earth fort\n",
            "ry living substance that I have made will I destroy from off the face of the e\n",
            "; and the LORD said in his heart , I will not again curse the ground any more \n",
            "art is evil from his youth ; neither will I again smite any more every thing l\n",
            " And surely your blood of your lives will I require ; at the hand of every bea\n",
            "require ; at the hand of every beast will I require it , and at the hand of ma\n",
            "at the hand of every man ' s brother will I require the life of man . 9 : 6 Wh\n",
            "ry beast of the earth . 9 : 11 And I will establish my covenant with you , nei\n",
            " be seen in the cloud : 9 : 15 And I will remember my covenant , which is betw\n",
            "he bow shall be in the cloud ; and I will look upon it , that I may remember t\n",
            "s they begin to do : and now nothing will be restrained from them , which they\n",
            "ather ' s house , unto a land that I will shew thee : 12 : 2 And I will make o\n",
            "that I will shew thee : 12 : 2 And I will make of thee a great nation , and I \n",
            " make of thee a great nation , and I will bless thee , and make thy name great\n",
            "u shalt be a blessing : 12 : 3 And I will bless them that bless thee , and cur\n",
            "nto Abram , and said , Unto thy seed will I give this land : and there builded\n",
            "ll say , This is his wife : and they will kill me , but they will save thee al\n",
            "e : and they will kill me , but they will save thee alive . 12 : 13 Say , I pr\n",
            "hou wilt take the left hand , then I will go to the right ; or if thou depart \n",
            "None\n",
            "    \n",
            "Sentences from the text where 'will' occurs the minimum times is shown below\n",
            "    \n",
            "Displaying 3 of 3 matches:\n",
            "arn ' d the heat to bear , The cloud will vanish , we shall hear His voice , S\n",
            "lver hair , And be like him , and he will then love me . THE BLOSSOM Merry , m\n",
            "alone nor or itself : fear not and I will call , The weak worm from its lowly \n"
          ],
          "name": "stdout"
        }
      ]
    },
    {
      "cell_type": "code",
      "metadata": {
        "id": "RwZSLwrkS1mg",
        "colab_type": "code",
        "colab": {
          "base_uri": "https://localhost:8080/",
          "height": 612
        },
        "outputId": "cdfb894a-aa0a-43a9-baa3-464239864ea9"
      },
      "source": [
        "print(\"Sentences from the text where 'might' occurs the maximum times  is shown below\")\n",
        "print(\"    \")\n",
        "print(word_max.concordance('might'))\n",
        "print(\"    \")\n",
        "print(\"Sentences from the text where 'might' occurs the minimum times is shown below\")\n",
        "print(\"    \")\n",
        "word_min.concordance('might')"
      ],
      "execution_count": 31,
      "outputs": [
        {
          "output_type": "stream",
          "text": [
            "Sentences from the text where 'might' occurs the maximum times  is shown below\n",
            "    \n",
            "Displaying 25 of 475 matches:\n",
            "aidst thou , She is my sister ? so I might have taken her to me to wife : now t\n",
            "as not able to bear them , that they might dwell together : for their substance\n",
            "raham said unto God , O that Ishmael might live before thee ! 17 : 19 And God s\n",
            "ast done unto us ? one of the people might lightly have lien with thy wife , an\n",
            "And Laban said , Behold , I would it might be according to thy word . 30 : 35 A\n",
            "he cattle in the gutters , that they might conceive among the rods . 30 : 42 Bu\n",
            " me ; and didst not tell me , that I might have sent thee away with mirth , and\n",
            "heir riches were more than that they might dwell together ; and the land wherei\n",
            ", and lay no hand upon him ; that he might rid him out of their hands , to deli\n",
            "y themselves : because the Egyptians might not eat bread with the Hebrews ; for\n",
            " Reuben , thou art my firstborn , my might , and the beginning of my strength ,\n",
            "d the heart of his servants , that I might shew these my signs before him : 10 \n",
            "e urgent upon the people , that they might send them out of the land in haste ;\n",
            "o couple the tent together , that it might be one . 36 : 19 And he made a cover\n",
            " ephod with a lace of blue , that it might be above the curious girdle of the e\n",
            "the ephod , and that the breastplate might not be loosed from the ephod ; as th\n",
            " in ward , that the mind of the LORD might be shewed them . 24 : 13 And the LOR\n",
            "in the sight of the heathen , that I might be their God : I am the LORD . 26 : \n",
            "amilies of the Kohathites , all that might do service in the tabernacle of the \n",
            "of the sons of Gershon , of all that might do service in the tabernacle of the \n",
            "hou broughtest up this people in thy might from among them ;) 14 : 14 And they \n",
            "high places of Baal , that thence he might see the utmost part of the people . \n",
            "d made his heart obstinate , that he might deliver him into thy hand , as appea\n",
            " to thy works , and according to thy might ? 3 : 25 I pray thee , let me go ove\n",
            "you statutes and judgments , that ye might do them in the land whither ye go ov\n",
            "None\n",
            "    \n",
            "Sentences from the text where 'might' occurs the minimum times is shown below\n",
            "    \n",
            "Displaying 2 of 2 matches:\n",
            "nd weeping in the evening dew ; That might control The starry pole , And fallen\n",
            "he Church to stray . Then the Parson might preach , and drink , and sing , And \n"
          ],
          "name": "stdout"
        }
      ]
    },
    {
      "cell_type": "markdown",
      "metadata": {
        "id": "aIdGm9GVTCox",
        "colab_type": "text"
      },
      "source": [
        "## Problem 3\n",
        "- In the Inaugural corpus identify 10 most frequently used words longer than 7 characters;\n",
        "- Which one of those has the largest number of synonyms? \n",
        "- List all synonyms for those 10 words. Which one of those 10 words has the largest number of hyponyms? \n",
        "- List all hyponyms of those 10 most frequently used “long” words."
      ]
    },
    {
      "cell_type": "code",
      "metadata": {
        "id": "jpNAIX2NTIqt",
        "colab_type": "code",
        "colab": {
          "base_uri": "https://localhost:8080/",
          "height": 51
        },
        "outputId": "a386c767-4d08-49f5-b8c4-848dd05642b4"
      },
      "source": [
        "nltk.download('inaugural')\n",
        "from nltk.corpus import inaugural"
      ],
      "execution_count": 32,
      "outputs": [
        {
          "output_type": "stream",
          "text": [
            "[nltk_data] Downloading package inaugural to /root/nltk_data...\n",
            "[nltk_data]   Unzipping corpora/inaugural.zip.\n"
          ],
          "name": "stdout"
        }
      ]
    },
    {
      "cell_type": "code",
      "metadata": {
        "id": "eTubtzzbTE0p",
        "colab_type": "code",
        "colab": {
          "base_uri": "https://localhost:8080/",
          "height": 71
        },
        "outputId": "374b2924-84b3-4e96-e209-760511a0355c"
      },
      "source": [
        "#Files in Inaugural Corpus\n",
        "print(\"Number of files in Inaugural Corpus: {}\".format(len(inaugural.fileids())))\n",
        "print(inaugural.fileids())"
      ],
      "execution_count": 34,
      "outputs": [
        {
          "output_type": "stream",
          "text": [
            "Number of files in Inaugural Corpus: 58\n",
            "['1789-Washington.txt', '1793-Washington.txt', '1797-Adams.txt', '1801-Jefferson.txt', '1805-Jefferson.txt', '1809-Madison.txt', '1813-Madison.txt', '1817-Monroe.txt', '1821-Monroe.txt', '1825-Adams.txt', '1829-Jackson.txt', '1833-Jackson.txt', '1837-VanBuren.txt', '1841-Harrison.txt', '1845-Polk.txt', '1849-Taylor.txt', '1853-Pierce.txt', '1857-Buchanan.txt', '1861-Lincoln.txt', '1865-Lincoln.txt', '1869-Grant.txt', '1873-Grant.txt', '1877-Hayes.txt', '1881-Garfield.txt', '1885-Cleveland.txt', '1889-Harrison.txt', '1893-Cleveland.txt', '1897-McKinley.txt', '1901-McKinley.txt', '1905-Roosevelt.txt', '1909-Taft.txt', '1913-Wilson.txt', '1917-Wilson.txt', '1921-Harding.txt', '1925-Coolidge.txt', '1929-Hoover.txt', '1933-Roosevelt.txt', '1937-Roosevelt.txt', '1941-Roosevelt.txt', '1945-Roosevelt.txt', '1949-Truman.txt', '1953-Eisenhower.txt', '1957-Eisenhower.txt', '1961-Kennedy.txt', '1965-Johnson.txt', '1969-Nixon.txt', '1973-Nixon.txt', '1977-Carter.txt', '1981-Reagan.txt', '1985-Reagan.txt', '1989-Bush.txt', '1993-Clinton.txt', '1997-Clinton.txt', '2001-Bush.txt', '2005-Bush.txt', '2009-Obama.txt', '2013-Obama.txt', '2017-Trump.txt']\n"
          ],
          "name": "stdout"
        }
      ]
    },
    {
      "cell_type": "code",
      "metadata": {
        "id": "vJy9qpdLTg2J",
        "colab_type": "code",
        "colab": {
          "base_uri": "https://localhost:8080/",
          "height": 272
        },
        "outputId": "9328bc1a-b236-4897-f736-d42e367c0cd0"
      },
      "source": [
        "corp = []\n",
        "for i in range(len(inaugural.fileids())):\n",
        "     corp.append(inaugural.raw(inaugural.fileids()))\n",
        "\n",
        "#Convert list to string\n",
        "str_txt = ' '.join(map(str, corp))\n",
        "corp_words = word_tokenize(str_txt) # Tokenize the words\n",
        "print('Length of corpus words',len(corp_words))\n",
        "\n",
        "cond_words = []\n",
        "for i in corp_words:\n",
        "    if len(i) > 7:\n",
        "        cond_words.append(i)\n",
        "print('More than 7 word lengths',len(cond_words))\n",
        "\n",
        "#10 most frequently used words longer than 7 characters\n",
        "word_freq = FreqDist(cond_words) \n",
        "\n",
        "#Currently this is a dictionary. Convert into dataframe\n",
        "Freq_dict = dict(word_freq.most_common(10))\n",
        "Freq_table = pd.DataFrame.from_dict(data = Freq_dict, columns = ['Frequency'], orient ='index').sort_values(by = 'Frequency', ascending = False)\n",
        "Freq_table.index.name = 'Words'\n",
        "print('10 most frequently used words longer than 7 characters \\n',Freq_table )"
      ],
      "execution_count": 35,
      "outputs": [
        {
          "output_type": "stream",
          "text": [
            "Length of corpus words 8641594\n",
            "More than 7 word lengths 1338872\n",
            "10 most frequently used words longer than 7 characters \n",
            "               Frequency\n",
            "Words                  \n",
            "Government        19372\n",
            "government        13572\n",
            "citizens          11948\n",
            "Constitution      11426\n",
            "American           9454\n",
            "national           7888\n",
            "Congress           7308\n",
            "interests          6670\n",
            "political          6090\n",
            "principles         5568\n"
          ],
          "name": "stdout"
        }
      ]
    },
    {
      "cell_type": "code",
      "metadata": {
        "id": "RlN-l0gBUgzr",
        "colab_type": "code",
        "colab": {
          "base_uri": "https://localhost:8080/",
          "height": 68
        },
        "outputId": "c47f25cb-3f5f-4cce-b120-c4391ac34cab"
      },
      "source": [
        "from nltk.corpus import wordnet \n",
        "from itertools import chain\n",
        "nltk.download('wordnet')"
      ],
      "execution_count": 36,
      "outputs": [
        {
          "output_type": "stream",
          "text": [
            "[nltk_data] Downloading package wordnet to /root/nltk_data...\n",
            "[nltk_data]   Unzipping corpora/wordnet.zip.\n"
          ],
          "name": "stdout"
        },
        {
          "output_type": "execute_result",
          "data": {
            "text/plain": [
              "True"
            ]
          },
          "metadata": {
            "tags": []
          },
          "execution_count": 36
        }
      ]
    },
    {
      "cell_type": "code",
      "metadata": {
        "id": "P6qbXMBJUl94",
        "colab_type": "code",
        "colab": {
          "base_uri": "https://localhost:8080/",
          "height": 1000
        },
        "outputId": "91591976-534c-41dc-9c4c-3383c5acb799"
      },
      "source": [
        "# Finding the number of synonyms and hyponyms and displays the them for each of the 10 words\n",
        "for keys in Freq_dict:\n",
        "    syn = []\n",
        "    size = []\n",
        "    print(\"Word: \" + keys)\n",
        "    syns = wordnet.synsets(keys)\n",
        "    for s in syns:\n",
        "        for l in s.lemmas():\n",
        "            syn.append(l.name()) \n",
        "    synonyms = []\n",
        "    [synonyms.append(x) for x in syn if x not in synonyms]\n",
        "    print('Number of Synonyms of '+ keys + str(': ') + str(len(synonyms)))\n",
        "    print('Synonyms of ' + keys + ' are: ' + str(synonyms) + '\\n')\n",
        "    print('Hyponyms')\n",
        "    for i,j in enumerate(syns):\n",
        "        print(\"Meaning\",i, \"NLTK ID:\", j.name())\n",
        "        x = list(chain(*[l.lemma_names() for l in j.hyponyms()]))\n",
        "        size.append(len(x))\n",
        "        print(\"Hyponyms:\", \", \".join(list(chain(*[l.lemma_names() for l in j.hyponyms()]))))\n",
        "    print(\"Number of Hyponyms of \" + keys + ': ' + str(sum(size)) + str('\\n'))"
      ],
      "execution_count": 37,
      "outputs": [
        {
          "output_type": "stream",
          "text": [
            "Word: Government\n",
            "Number of Synonyms of Government: 9\n",
            "Synonyms of Government are: ['government', 'authorities', 'regime', 'governing', 'governance', 'government_activity', 'administration', 'politics', 'political_science']\n",
            "\n",
            "Hyponyms\n",
            "Meaning 0 NLTK ID: government.n.01\n",
            "Hyponyms: ancien_regime, authoritarian_state, authoritarian_regime, bureaucracy, court, royal_court, Downing_Street, empire, federal_government, government-in-exile, local_government, military_government, stratocracy, palace, papacy, pontificate, puppet_government, puppet_state, pupet_regime, state, state_government, totalitarian_state, totalitation_regime\n",
            "Meaning 1 NLTK ID: government.n.02\n",
            "Hyponyms: legislation, legislating, lawmaking, misgovernment, misrule, trust_busting\n",
            "Meaning 2 NLTK ID: government.n.03\n",
            "Hyponyms: \n",
            "Meaning 3 NLTK ID: politics.n.02\n",
            "Hyponyms: geopolitics, realpolitik, practical_politics\n",
            "Number of Hyponyms of Government: 32\n",
            "\n",
            "Word: government\n",
            "Number of Synonyms of government: 9\n",
            "Synonyms of government are: ['government', 'authorities', 'regime', 'governing', 'governance', 'government_activity', 'administration', 'politics', 'political_science']\n",
            "\n",
            "Hyponyms\n",
            "Meaning 0 NLTK ID: government.n.01\n",
            "Hyponyms: ancien_regime, authoritarian_state, authoritarian_regime, bureaucracy, court, royal_court, Downing_Street, empire, federal_government, government-in-exile, local_government, military_government, stratocracy, palace, papacy, pontificate, puppet_government, puppet_state, pupet_regime, state, state_government, totalitarian_state, totalitation_regime\n",
            "Meaning 1 NLTK ID: government.n.02\n",
            "Hyponyms: legislation, legislating, lawmaking, misgovernment, misrule, trust_busting\n",
            "Meaning 2 NLTK ID: government.n.03\n",
            "Hyponyms: \n",
            "Meaning 3 NLTK ID: politics.n.02\n",
            "Hyponyms: geopolitics, realpolitik, practical_politics\n",
            "Number of Hyponyms of government: 32\n",
            "\n",
            "Word: citizens\n",
            "Number of Synonyms of citizens: 1\n",
            "Synonyms of citizens are: ['citizen']\n",
            "\n",
            "Hyponyms\n",
            "Meaning 0 NLTK ID: citizen.n.01\n",
            "Hyponyms: active_citizen, civilian, freeman, freewoman, private_citizen, repatriate, thane, voter, elector\n",
            "Number of Hyponyms of citizens: 9\n",
            "\n",
            "Word: Constitution\n",
            "Number of Synonyms of Constitution: 17\n",
            "Synonyms of Constitution are: ['fundamental_law', 'organic_law', 'constitution', 'establishment', 'formation', 'organization', 'organisation', 'United_States_Constitution', 'U.S._Constitution', 'US_Constitution', 'Constitution', 'Constitution_of_the_United_States', 'composition', 'physical_composition', 'makeup', 'make-up', 'Old_Ironsides']\n",
            "\n",
            "Hyponyms\n",
            "Meaning 0 NLTK ID: fundamental_law.n.01\n",
            "Hyponyms: \n",
            "Meaning 1 NLTK ID: constitution.n.02\n",
            "Hyponyms: collectivization, collectivisation, colonization, colonisation, settlement, communization, communisation, federation, unionization, unionisation\n",
            "Meaning 2 NLTK ID: united_states_constitution.n.01\n",
            "Hyponyms: \n",
            "Meaning 3 NLTK ID: constitution.n.04\n",
            "Hyponyms: genotype, genetic_constitution, karyotype, phenotype, structure, texture, grain\n",
            "Meaning 4 NLTK ID: constitution.n.05\n",
            "Hyponyms: \n",
            "Number of Hyponyms of Constitution: 17\n",
            "\n",
            "Word: American\n",
            "Number of Synonyms of American: 3\n",
            "Synonyms of American are: ['American', 'American_English', 'American_language']\n",
            "\n",
            "Hyponyms\n",
            "Meaning 0 NLTK ID: american.n.01\n",
            "Hyponyms: African-American, African_American, Afro-American, Black_American, Alabaman, Alabamian, Alaskan, Anglo-American, Appalachian, Arizonan, Arizonian, Arkansan, Arkansawyer, Asian_American, Bay_Stater, Bostonian, Californian, Carolinian, Coloradan, Connecticuter, Creole, Delawarean, Delawarian, Floridian, Franco-American, Georgian, German_American, Hawaiian, Idahoan, Illinoisan, Indianan, Hoosier, Iowan, Kansan, Kentuckian, Bluegrass_Stater, Louisianan, Louisianian, Mainer, Down_Easter, Marylander, Michigander, Wolverine, Minnesotan, Gopher, Mississippian, Missourian, Montanan, Nebraskan, Cornhusker, Nevadan, New_Englander, Yankee, New_Hampshirite, Granite_Stater, New_Jerseyan, New_Jerseyite, Garden_Stater, New_Mexican, New_Yorker, Nisei, North_Carolinian, Tarheel, North_Dakotan, Ohioan, Buckeye, Oklahoman, Sooner, Oregonian, Beaver, Pennsylvanian, Keystone_Stater, Puerto_Rican, Rhode_Islander, South_Carolinian, South_Dakotan, Southerner, Spanish_American, Hispanic_American, Hispanic, Tennessean, Volunteer, Texan, Tory, Utahan, Vermonter, Virginian, Washingtonian, Washingtonian, West_Virginian, Wisconsinite, Badger, Wyomingite, Yankee, Yank, Northerner, Yankee, Yank, Yankee-Doodle\n",
            "Meaning 1 NLTK ID: american_english.n.01\n",
            "Hyponyms: African_American_Vernacular_English, AAVE, African_American_English, Black_English, Black_English_Vernacular, Black_Vernacular, Black_Vernacular_English, Ebonics\n",
            "Meaning 2 NLTK ID: american.n.03\n",
            "Hyponyms: Creole, Latin_American, Latino, Mesoamerican, North_American, South_American, West_Indian\n",
            "Meaning 3 NLTK ID: american.a.01\n",
            "Hyponyms: \n",
            "Meaning 4 NLTK ID: american.a.02\n",
            "Hyponyms: \n",
            "Number of Hyponyms of American: 114\n",
            "\n",
            "Word: national\n",
            "Number of Synonyms of national: 5\n",
            "Synonyms of national are: ['national', 'subject', 'home', 'interior', 'internal']\n",
            "\n",
            "Hyponyms\n",
            "Meaning 0 NLTK ID: national.n.01\n",
            "Hyponyms: citizen, compatriot, patriot, nationalist\n",
            "Meaning 1 NLTK ID: national.a.01\n",
            "Hyponyms: \n",
            "Meaning 2 NLTK ID: national.a.02\n",
            "Hyponyms: \n",
            "Meaning 3 NLTK ID: national.a.03\n",
            "Hyponyms: \n",
            "Meaning 4 NLTK ID: national.s.04\n",
            "Hyponyms: \n",
            "Meaning 5 NLTK ID: home.s.03\n",
            "Hyponyms: \n",
            "Meaning 6 NLTK ID: national.a.06\n",
            "Hyponyms: \n",
            "Meaning 7 NLTK ID: national.a.07\n",
            "Hyponyms: \n",
            "Number of Hyponyms of national: 4\n",
            "\n",
            "Word: Congress\n",
            "Number of Synonyms of Congress: 15\n",
            "Synonyms of Congress are: ['Congress', 'United_States_Congress', 'U.S._Congress', 'US_Congress', 'congress', 'sexual_intercourse', 'intercourse', 'sex_act', 'copulation', 'coitus', 'coition', 'sexual_congress', 'sexual_relation', 'relation', 'carnal_knowledge']\n",
            "\n",
            "Hyponyms\n",
            "Meaning 0 NLTK ID: congress.n.01\n",
            "Hyponyms: \n",
            "Meaning 1 NLTK ID: congress.n.02\n",
            "Hyponyms: Continental_Congress\n",
            "Meaning 2 NLTK ID: congress.n.03\n",
            "Hyponyms: \n",
            "Meaning 3 NLTK ID: sexual_intercourse.n.01\n",
            "Hyponyms: defloration, fuck, fucking, screw, screwing, ass, nooky, nookie, piece_of_ass, piece_of_tail, roll_in_the_hay, shag, shtup, hank_panky, penetration, unlawful_carnal_knowledge, criminal_congress\n",
            "Number of Hyponyms of Congress: 18\n",
            "\n",
            "Word: interests\n",
            "Number of Synonyms of interests: 12\n",
            "Synonyms of interests are: ['interest', 'involvement', 'sake', 'interestingness', 'stake', 'interest_group', 'pastime', 'pursuit', 'concern', 'occupy', 'worry', 'matter_to']\n",
            "\n",
            "Hyponyms\n",
            "Meaning 0 NLTK ID: interest.n.01\n",
            "Hyponyms: concern, enthusiasm\n",
            "Meaning 1 NLTK ID: sake.n.01\n",
            "Hyponyms: behalf\n",
            "Meaning 2 NLTK ID: interest.n.03\n",
            "Hyponyms: charisma, personal_appeal, personal_magnetism, color, colour, vividness, newsworthiness, news, shrillness, topicality\n",
            "Meaning 3 NLTK ID: interest.n.04\n",
            "Hyponyms: compound_interest, simple_interest\n",
            "Meaning 4 NLTK ID: interest.n.05\n",
            "Hyponyms: controlling_interest, equity, fee, grubstake, insurable_interest, reversion, right, security_interest, terminable_interest, undivided_interest, undivided_right, vested_interest\n",
            "Meaning 5 NLTK ID: interest.n.06\n",
            "Hyponyms: special_interest, vested_interest\n",
            "Meaning 6 NLTK ID: pastime.n.01\n",
            "Hyponyms: avocation, by-line, hobby, pursuit, sideline, spare-time_activity\n",
            "Meaning 7 NLTK ID: interest.v.01\n",
            "Hyponyms: absorb, engross, engage, occupy, fascinate, transfix, grip, spellbind\n",
            "Meaning 8 NLTK ID: concern.v.02\n",
            "Hyponyms: \n",
            "Meaning 9 NLTK ID: matter_to.v.01\n",
            "Hyponyms: intrigue, fascinate\n",
            "Number of Hyponyms of interests: 45\n",
            "\n",
            "Word: political\n",
            "Number of Synonyms of political: 1\n",
            "Synonyms of political are: ['political']\n",
            "\n",
            "Hyponyms\n",
            "Meaning 0 NLTK ID: political.a.01\n",
            "Hyponyms: \n",
            "Meaning 1 NLTK ID: political.a.02\n",
            "Hyponyms: \n",
            "Meaning 2 NLTK ID: political.a.03\n",
            "Hyponyms: \n",
            "Number of Hyponyms of political: 0\n",
            "\n",
            "Word: principles\n",
            "Number of Synonyms of principles: 4\n",
            "Synonyms of principles are: ['principle', 'rule', 'precept', 'rationale']\n",
            "\n",
            "Hyponyms\n",
            "Meaning 0 NLTK ID: principle.n.01\n",
            "Hyponyms: feng_shui, pillar, yang, yin\n",
            "Meaning 1 NLTK ID: principle.n.02\n",
            "Hyponyms: accounting_principle, accounting_standard, chivalry, knightliness, ethic, moral_principle, value-system, value_orientation, Hellenism, legal_principle, judicial_principle, judicial_doctrine, scruple\n",
            "Meaning 2 NLTK ID: principle.n.03\n",
            "Hyponyms: conservation, dictate, fundamentals, basics, fundamental_principle, basic_principle, bedrock, insurrectionism, logic, pleasure_principle, pleasure-pain_principle, pleasure-unpleasure_principle, reality_principle, Tao\n",
            "Meaning 3 NLTK ID: principle.n.04\n",
            "Hyponyms: Gestalt_law_of_organization, Gestalt_principle_of_organization, Gresham's_Law, Le_Chatelier's_principle, Le_Chatelier's_law, Le_Chatelier_principle, Le_Chatelier-Braun_principle, localization_of_function, localisation_of_function, localization_principle, localisation_principle, localization, localisation, mass-action_principle, mass_action, mass-energy_equivalence, Naegele's_rule, Occam's_Razor, Ockham's_Razor, principle_of_parsimony, law_of_parsimony, principle_of_equivalence, principle_of_liquid_displacement, principle_of_superposition, superposition_principle, superposition, principle_of_superposition, Huygens'_principle_of_superposition\n",
            "Meaning 4 NLTK ID: principle.n.05\n",
            "Hyponyms: caveat_emptor, higher_law, hypothetical_imperative, moral_principle\n",
            "Meaning 5 NLTK ID: rationale.n.01\n",
            "Hyponyms: dialectics\n",
            "Number of Hyponyms of principles: 64\n",
            "\n"
          ],
          "name": "stdout"
        }
      ]
    }
  ]
}