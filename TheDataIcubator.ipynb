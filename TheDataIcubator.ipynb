{
  "nbformat": 4,
  "nbformat_minor": 0,
  "metadata": {
    "colab": {
      "name": "TheDataIcubator.ipynb",
      "provenance": [],
      "collapsed_sections": [],
      "authorship_tag": "ABX9TyPIcramaRlZZeNjYtb4sTTb",
      "include_colab_link": true
    },
    "kernelspec": {
      "name": "python3",
      "display_name": "Python 3"
    },
    "accelerator": "TPU"
  },
  "cells": [
    {
      "cell_type": "markdown",
      "metadata": {
        "id": "view-in-github",
        "colab_type": "text"
      },
      "source": [
        "<a href=\"https://colab.research.google.com/github/Parthasarathi009/2015/blob/master/TheDataIcubator.ipynb\" target=\"_parent\"><img src=\"https://colab.research.google.com/assets/colab-badge.svg\" alt=\"Open In Colab\"/></a>"
      ]
    },
    {
      "cell_type": "code",
      "metadata": {
        "id": "M1zaJYkGG7yi",
        "colab_type": "code",
        "colab": {
          "base_uri": "https://localhost:8080/",
          "height": 252
        },
        "outputId": "f5a390d9-d922-4cf0-ee72-c30a55217649"
      },
      "source": [
        "from itertools import permutations \n",
        "import scipy.stats\n",
        "\n",
        "## Explicit check\n",
        "s1=[]\n",
        "s2=[]\n",
        "perm = list(permutations(range(1,4)))\n",
        "print(perm)\n",
        "print(len(perm))\n",
        "for occur in list(perm):\n",
        "  eachTotal=occur[0]\n",
        "  #print(list(occur))\n",
        "  for ele in range(1,len(occur)):\n",
        "    eachTotal += abs(occur[ele]-occur[ele-1])\n",
        "    #print(eachTotal)\n",
        "\n",
        "  global s1,s2\n",
        "  s1.append(eachTotal)\n",
        "  s2.append(eachTotal**2)\n",
        "print(s1)\n",
        "exp=sum(s1)/len(s1)\n",
        "exp2= sum(s2)/len(s2)\n",
        "\n",
        "print(exp) # mean\n",
        "print(exp2-exp**2) # Varience\n",
        "\n",
        "## Function implementation using derived formula\n",
        "def exp(N):\n",
        "    return round((N+1)*(2*N+1)/6,5)\n",
        "\n",
        "def varience(N):\n",
        "  return round((N+1)*(8*(N**2)-(15*N)+13)/180,5)\n",
        "\n",
        "print(\"the mean of total payment for N=3 :\",exp(3))\n",
        "print(\"the Varience of total payment for N=3: \",round(varience(3),5))\n",
        "\n",
        "print(\"the mean of total payment for N=10 :\",exp(10))\n",
        "print(\"the standard deviation of total payment for N=10: \",round(varience(10)**0.5,5))\n",
        "\n",
        "print(\"the mean of your total payment for N=20 :\",exp(20))\n",
        "print(\"the standard deviation of total payment for N=20: \",round(varience(20)**0.5,5))\n",
        "\n",
        "#print(len(list(permutations(range(10))))) \n",
        "print(\"As the population size very high {} assuming the sums will follow normal distribuion\".format(len(list(permutations(range(10))))) )\n",
        "\n",
        "print(\"The probability that your total payment is greater than or equal to 45 for N=10\",round(scipy.stats.norm.sf(45,exp(10),varience(10)**0.5),5))\n",
        "print(\"The probability that your total payment is greater than or equal to 160 for N=20\",round(scipy.stats.norm.sf(160,exp(20),varience(20)**0.5),5))\n",
        "\n"
      ],
      "execution_count": 43,
      "outputs": [
        {
          "output_type": "stream",
          "text": [
            "[(1, 2, 3), (1, 3, 2), (2, 1, 3), (2, 3, 1), (3, 1, 2), (3, 2, 1)]\n",
            "6\n",
            "[3, 4, 5, 5, 6, 5]\n",
            "4.666666666666667\n",
            "0.8888888888888857\n",
            "the mean of total payment for N=3 : 4.66667\n",
            "the Varience of total payment for N=3:  0.88889\n",
            "the mean of total payment for N=10 : 38.5\n",
            "the standard deviation of total payment for N=10:  6.36527\n",
            "the mean of your total payment for N=20 : 143.5\n",
            "the standard deviation of total payment for N=20:  18.43502\n",
            "As the population size very high 3628800 assuming the sums will follow normal distribuion\n",
            "The probability that your total payment is greater than or equal to 45 for N=10 0.15359\n",
            "The probability that your total payment is greater than or equal to 160 for N=20 0.18538\n"
          ],
          "name": "stdout"
        }
      ]
    }
  ]
}